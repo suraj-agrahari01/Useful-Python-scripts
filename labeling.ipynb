{
 "cells": [
  {
   "cell_type": "code",
   "execution_count": 4,
   "id": "8eb6764f",
   "metadata": {},
   "outputs": [
    {
     "name": "stdout",
     "output_type": "stream",
     "text": [
      "Requirement already satisfied: opencv-python-headless in c:\\users\\suraj\\appdata\\local\\programs\\python\\python310\\lib\\site-packages (4.8.0.76)\n",
      "Requirement already satisfied: pandas in c:\\users\\suraj\\appdata\\local\\programs\\python\\python310\\lib\\site-packages (1.4.3)\n",
      "Requirement already satisfied: numpy>=1.21.2 in c:\\users\\suraj\\appdata\\local\\programs\\python\\python310\\lib\\site-packages (from opencv-python-headless) (1.23.1)\n",
      "Requirement already satisfied: python-dateutil>=2.8.1 in c:\\users\\suraj\\appdata\\roaming\\python\\python310\\site-packages (from pandas) (2.8.2)\n",
      "Requirement already satisfied: pytz>=2020.1 in c:\\users\\suraj\\appdata\\local\\programs\\python\\python310\\lib\\site-packages (from pandas) (2022.1)\n",
      "Requirement already satisfied: six>=1.5 in c:\\users\\suraj\\appdata\\roaming\\python\\python310\\site-packages (from python-dateutil>=2.8.1->pandas) (1.16.0)\n",
      "Note: you may need to restart the kernel to use updated packages.\n"
     ]
    }
   ],
   "source": [
    "pip install opencv-python-headless pandas\n"
   ]
  },
  {
   "cell_type": "code",
   "execution_count": null,
   "id": "07c9ad05",
   "metadata": {},
   "outputs": [],
   "source": [
    "pip install openpyxl\n"
   ]
  },
  {
   "cell_type": "code",
   "execution_count": 82,
   "id": "e8a8b50d",
   "metadata": {},
   "outputs": [
    {
     "name": "stdout",
     "output_type": "stream",
     "text": [
      "Excel file 'C:\\Users\\suraj\\Desktop\\large-dataset\\extract\\large-dataset\\letterbox\\non smile\\1st-ii\\33\\label.xlsx' created with image names labeled as 'non smile'.\n"
     ]
    }
   ],
   "source": [
    "import os\n",
    "import pandas as pd\n",
    "\n",
    "# Folder containing your images\n",
    "image_folder = r'C:\\Users\\suraj\\Desktop\\large-dataset\\extract\\large-dataset\\letterbox\\non smile\\1st-ii\\33'\n",
    "\n",
    "# List to store image names and labels\n",
    "data = []\n",
    "\n",
    "# Loop through the files in the image folder\n",
    "for filename in os.listdir(image_folder):\n",
    "    if filename.endswith(\".jpg\") or filename.endswith(\".png\"):\n",
    "        image_path = os.path.join(image_folder, filename)\n",
    "        data.append([filename, \"non smile\"])\n",
    "\n",
    "# Create a Pandas DataFrame\n",
    "df = pd.DataFrame(data, columns=[\"Image Name\", \"Label\"])\n",
    "\n",
    "# Save the DataFrame to an Excel file\n",
    "output_excel_file = r\"C:\\Users\\suraj\\Desktop\\large-dataset\\extract\\large-dataset\\letterbox\\non smile\\1st-ii\\33\\label.xlsx\"\n",
    "df.to_excel(output_excel_file, index=False)\n",
    "\n",
    "print(f\"Excel file '{output_excel_file}' created with image names labeled as 'non smile'.\")\n"
   ]
  },
  {
   "cell_type": "code",
   "execution_count": null,
   "id": "f9e6610b",
   "metadata": {},
   "outputs": [],
   "source": []
  }
 ],
 "metadata": {
  "kernelspec": {
   "display_name": "Python 3 (ipykernel)",
   "language": "python",
   "name": "python3"
  },
  "language_info": {
   "codemirror_mode": {
    "name": "ipython",
    "version": 3
   },
   "file_extension": ".py",
   "mimetype": "text/x-python",
   "name": "python",
   "nbconvert_exporter": "python",
   "pygments_lexer": "ipython3",
   "version": "3.10.5"
  }
 },
 "nbformat": 4,
 "nbformat_minor": 5
}
