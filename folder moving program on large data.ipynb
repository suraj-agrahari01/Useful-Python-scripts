{
 "cells": [
  {
   "cell_type": "code",
   "execution_count": 2,
   "id": "132de501",
   "metadata": {},
   "outputs": [
    {
     "name": "stdout",
     "output_type": "stream",
     "text": [
      "Moved images to folder 1\n",
      "Moved images to folder 2\n",
      "Moved images to folder 3\n",
      "Moved images to folder 4\n",
      "Moved images to folder 5\n",
      "Moved images to folder 6\n",
      "Moved images to folder 7\n",
      "Moved images to folder 8\n",
      "Moved images to folder 9\n",
      "Moved images to folder 10\n",
      "Moved images to folder 11\n",
      "Moved images to folder 12\n",
      "Moved images to folder 13\n",
      "Moved images to folder 14\n",
      "Moved images to folder 15\n",
      "All images moved to new folders.\n"
     ]
    }
   ],
   "source": [
    "import os\n",
    "import shutil\n",
    "\n",
    "# Source and destination folder paths\n",
    "source_folder = r'C:\\Users\\suraj\\Downloads\\SMILEsmileD-master\\SMILEsmileD-master\\SMILEs\\positives\\positives7'\n",
    "destination_root = r'C:\\Users\\suraj\\Desktop\\youtube-dataset\\train\\smile'\n",
    "\n",
    "# Create the destination root folder if it doesn't exist\n",
    "os.makedirs(destination_root, exist_ok=True)\n",
    "\n",
    "# Get a list of all image files in the source folder\n",
    "image_files = [f for f in os.listdir(source_folder) if f.lower().endswith(('.jpg', '.jpeg', '.png'))]\n",
    "\n",
    "# Calculate the number of folders needed\n",
    "num_folders = (len(image_files) + 249) // 250\n",
    "\n",
    "# Move images to new folders\n",
    "for folder_num in range(num_folders):\n",
    "    start_index = folder_num * 250\n",
    "    end_index = min((folder_num + 1) * 250, len(image_files))\n",
    "    \n",
    "    # Create a new folder\n",
    "    destination_folder = os.path.join(destination_root, str(folder_num + 1))\n",
    "    os.makedirs(destination_folder, exist_ok=True)\n",
    "    \n",
    "    # Move images to the new folder\n",
    "    for index in range(start_index, end_index):\n",
    "        source_path = os.path.join(source_folder, image_files[index])\n",
    "        destination_path = os.path.join(destination_folder, image_files[index])\n",
    "        shutil.copyfile(source_path, destination_path)\n",
    "    \n",
    "    print(f\"Moved images to folder {folder_num + 1}\")\n",
    "\n",
    "print(\"All images moved to new folders.\")\n"
   ]
  },
  {
   "cell_type": "code",
   "execution_count": null,
   "id": "43ca6c87",
   "metadata": {},
   "outputs": [],
   "source": []
  }
 ],
 "metadata": {
  "kernelspec": {
   "display_name": "Python 3 (ipykernel)",
   "language": "python",
   "name": "python3"
  },
  "language_info": {
   "codemirror_mode": {
    "name": "ipython",
    "version": 3
   },
   "file_extension": ".py",
   "mimetype": "text/x-python",
   "name": "python",
   "nbconvert_exporter": "python",
   "pygments_lexer": "ipython3",
   "version": "3.10.5"
  }
 },
 "nbformat": 4,
 "nbformat_minor": 5
}
