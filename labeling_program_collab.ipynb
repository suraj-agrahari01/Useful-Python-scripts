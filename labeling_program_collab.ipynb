{
  "nbformat": 4,
  "nbformat_minor": 0,
  "metadata": {
    "colab": {
      "provenance": []
    },
    "kernelspec": {
      "name": "python3",
      "display_name": "Python 3"
    },
    "language_info": {
      "name": "python"
    }
  },
  "cells": [
    {
      "cell_type": "code",
      "execution_count": 1,
      "metadata": {
        "colab": {
          "base_uri": "https://localhost:8080/"
        },
        "id": "jZxArwbSmJ5n",
        "outputId": "b04468d0-9626-4a52-8b4f-2d8ee0d0c74a"
      },
      "outputs": [
        {
          "output_type": "stream",
          "name": "stdout",
          "text": [
            "Mounted at /content/drive\n"
          ]
        }
      ],
      "source": [
        "from google.colab import drive\n",
        "drive.mount('/content/drive')\n"
      ]
    },
    {
      "cell_type": "code",
      "source": [
        "import os\n",
        "import pandas as pd\n",
        "\n",
        "# Folder path in your Google Drive\n",
        "image_folder = '/content/drive/MyDrive/crimson-tech/large-dataset/valid/non smile/40'\n",
        "\n",
        "# List to store image names and labels\n",
        "data = []\n",
        "\n",
        "# Loop through the files in the image folder\n",
        "for filename in os.listdir(image_folder):\n",
        "    if filename.endswith(\".jpg\") or filename.endswith(\".png\"):\n",
        "        image_path = os.path.join(image_folder, filename)\n",
        "        data.append([filename, \"smile\"])\n",
        "\n",
        "# Create a Pandas DataFrame\n",
        "df = pd.DataFrame(data, columns=[\"Image Name\", \"Label\"])\n",
        "\n",
        "# Save the DataFrame to an Excel file in your Google Drive\n",
        "output_excel_file = '/content/drive/MyDrive/crimson-tech/large-dataset/valid/non smile/40/label.xlsx'\n",
        "df.to_excel(output_excel_file, index=False)\n",
        "\n",
        "print(f\"Excel file '{output_excel_file}' created with image names labeled as 'smile'.\")\n"
      ],
      "metadata": {
        "colab": {
          "base_uri": "https://localhost:8080/"
        },
        "id": "6VFvU1b6mTFB",
        "outputId": "1c9a23a7-733d-45e5-9617-f8558455e035"
      },
      "execution_count": 76,
      "outputs": [
        {
          "output_type": "stream",
          "name": "stdout",
          "text": [
            "Excel file '/content/drive/MyDrive/crimson-tech/large-dataset/valid/non smile/40/label.xlsx' created with image names labeled as 'smile'.\n"
          ]
        }
      ]
    },
    {
      "cell_type": "code",
      "source": [],
      "metadata": {
        "id": "N6iSLelOm0av"
      },
      "execution_count": null,
      "outputs": []
    }
  ]
}